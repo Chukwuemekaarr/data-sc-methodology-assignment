{
  "metadata": {
    "language_info": {
      "codemirror_mode": {
        "name": "python",
        "version": 3
      },
      "file_extension": ".py",
      "mimetype": "text/x-python",
      "name": "python",
      "nbconvert_exporter": "python",
      "pygments_lexer": "ipython3",
      "version": "3.8"
    },
    "kernelspec": {
      "name": "python",
      "display_name": "Pyolite",
      "language": "python"
    }
  },
  "nbformat_minor": 4,
  "nbformat": 4,
  "cells": [
    {
      "cell_type": "markdown",
      "source": "# Data Science Methodology Assignment",
      "metadata": {}
    },
    {
      "cell_type": "markdown",
      "source": "## _The topic i have chosen to demonstrate my understanding of data science methodology by applying it to a given problem is 'Hospital', (the question is : what is the rate at which the population is increasing, in other to administer resources effectively and efficiently within a country?)_",
      "metadata": {}
    },
    {
      "cell_type": "markdown",
      "source": " ### BUSINESS UNDERSTANDING STAGE:",
      "metadata": {}
    },
    {
      "cell_type": "markdown",
      "source": "  A country conducts her census every 10years; the country conducted their last census three years ago <br> but within 3years the population seems to have increased tremendously and it has affected the overall welfare of the populace <br> (the challenge is how do we determine the rate at which the population is increasing without carrying out an official census, <br> since it is capital intensive ?). ",
      "metadata": {}
    },
    {
      "cell_type": "markdown",
      "source": "### ANALYTICAL APPROACH:",
      "metadata": {}
    },
    {
      "cell_type": "markdown",
      "source": "Here we are identifying what type of patterns will be needed to address the question most effectively;\nconsidering the nature of our question, descriptive appraoch is used to calculate the natality rate since that is the measure the hospital would use to determine the rate of population growth (this they did calculating the natality rate for the last 7years).",
      "metadata": {}
    },
    {
      "cell_type": "markdown",
      "source": "### DATA REQUIREMENT:",
      "metadata": {}
    },
    {
      "cell_type": "markdown",
      "source": "The data requirement in this case study is the number of births in the hospitals (both private and government owned) in the last 7 years.",
      "metadata": {}
    },
    {
      "cell_type": "markdown",
      "source": "### DATA COLLECTION:",
      "metadata": {}
    },
    {
      "cell_type": "markdown",
      "source": "In the context of this case study in collecting we are taking cognizance of the major categories of women responsible for this birth - that is, whether they are teenagers, young adult, old older youths, elderly women, single ladies; also the social status from which the majority of the birth is coming from.",
      "metadata": {}
    },
    {
      "cell_type": "markdown",
      "source": "### DATA UNDERSTANDING:",
      "metadata": {}
    },
    {
      "cell_type": "markdown",
      "source": "Here we are asking the question: Is the data that we collected representative of the problem to be solved? Descriptive statistics needs to be run against the data columns that would become variables in the model",
      "metadata": {}
    },
    {
      "cell_type": "markdown",
      "source": "### DATA PREPARATION:",
      "metadata": {}
    },
    {
      "cell_type": "markdown",
      "source": "At this stage we employed - Automating some of the data collection and preparation processes in the database, as well as feature engineering, so as to reduce the time we will spend at this stage.",
      "metadata": {}
    },
    {
      "cell_type": "markdown",
      "source": "### MODELING:",
      "metadata": {}
    },
    {
      "cell_type": "markdown",
      "source": "Here we build the relevant model foe our data; using a training set since it is a set of historical data in which the outcomes are already known (as is with our case)",
      "metadata": {}
    },
    {
      "cell_type": "markdown",
      "source": "### EVALUATION:",
      "metadata": {}
    },
    {
      "cell_type": "markdown",
      "source": "We are at this stage Evaluation the quality of the model to be assessed but it's also an opportunity to see if it meets the initial request.",
      "metadata": {}
    },
    {
      "cell_type": "markdown",
      "source": "### DEPLOYMENT:",
      "metadata": {}
    },
    {
      "cell_type": "markdown",
      "source": "Even though our model provides an answer, the key to making the answer relevant and useful to address the initial question, involves getting the stakeholders familiar with the tool produced.",
      "metadata": {}
    },
    {
      "cell_type": "markdown",
      "source": "### FEEDBACK:",
      "metadata": {}
    },
    {
      "cell_type": "markdown",
      "source": "After depolyment feedback from the users will help to refine the model and assess it for performance and impact. ",
      "metadata": {}
    }
  ]
}